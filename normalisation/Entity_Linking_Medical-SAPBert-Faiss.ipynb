{
 "cells": [
  {
   "cell_type": "code",
   "execution_count": 2,
   "id": "c370c1f0-eca7-4543-8fce-1a77d8e48572",
   "metadata": {},
   "outputs": [],
   "source": [
    "import faiss\n",
    "import torch\n",
    "import wget\n",
    "import os\n",
    "import numpy as np\n",
    "import pandas as pd\n",
    "\n",
    "from omegaconf import OmegaConf\n",
    "from pytorch_lightning import Trainer\n",
    "from IPython.display import display\n",
    "from tqdm import tqdm\n",
    "\n",
    "from nemo.collections import nlp as nemo_nlp\n",
    "from nemo.utils.exp_manager import exp_manager"
   ]
  },
  {
   "cell_type": "code",
   "execution_count": 13,
   "id": "04cd7ebf-e065-4276-a491-f73fd773a050",
   "metadata": {},
   "outputs": [],
   "source": [
    "import numpy as np\n",
    "import torch\n",
    "from tqdm.auto import tqdm\n",
    "from transformers import AutoTokenizer, AutoModel  \n",
    "\n",
    "tokenizer = AutoTokenizer.from_pretrained(\"cambridgeltl/SapBERT-from-PubMedBERT-fulltext\")  \n",
    "model = AutoModel.from_pretrained(\"cambridgeltl/SapBERT-from-PubMedBERT-fulltext\").cuda()"
   ]
  },
  {
   "cell_type": "code",
   "execution_count": 14,
   "id": "e542afe6-d156-493a-a5c4-129769e86186",
   "metadata": {},
   "outputs": [],
   "source": [
    "import pandas as pd"
   ]
  },
  {
   "cell_type": "code",
   "execution_count": 18,
   "id": "bef55d43-3e37-4449-9a98-d2221be87ba3",
   "metadata": {},
   "outputs": [
    {
     "name": "stderr",
     "output_type": "stream",
     "text": [
      "[NeMo W 2024-04-16 10:00:06 nemo_logging:349] /tmp/ipykernel_1473604/1043993813.py:1: ParserWarning: Falling back to the 'python' engine because the 'c' engine does not support regex separators (separators > 1 char and different from '\\s+' are interpreted as regex); you can avoid this warning by specifying engine='python'.\n",
      "      df = pd.read_csv('DataLeo/umls_spa_cui_term_test.txt',sep='\\|\\|',header=None)\n",
      "    \n"
     ]
    }
   ],
   "source": [
    "df = pd.read_csv('DataLeo/umls_spa_cui_term_test.txt',sep='\\|\\|',header=None)"
   ]
  },
  {
   "cell_type": "code",
   "execution_count": 20,
   "id": "f28914e4-8c41-47ba-a993-c54faf9b78e1",
   "metadata": {},
   "outputs": [],
   "source": [
    "df.columns=['Term','Code']"
   ]
  },
  {
   "cell_type": "code",
   "execution_count": 21,
   "id": "fab2e0f5-5b01-49bf-ba20-27930cfb1ea1",
   "metadata": {},
   "outputs": [
    {
     "data": {
      "text/html": [
       "<div>\n",
       "<style scoped>\n",
       "    .dataframe tbody tr th:only-of-type {\n",
       "        vertical-align: middle;\n",
       "    }\n",
       "\n",
       "    .dataframe tbody tr th {\n",
       "        vertical-align: top;\n",
       "    }\n",
       "\n",
       "    .dataframe thead th {\n",
       "        text-align: right;\n",
       "    }\n",
       "</style>\n",
       "<table border=\"1\" class=\"dataframe\">\n",
       "  <thead>\n",
       "    <tr style=\"text-align: right;\">\n",
       "      <th></th>\n",
       "      <th>Term</th>\n",
       "      <th>Code</th>\n",
       "    </tr>\n",
       "  </thead>\n",
       "  <tbody>\n",
       "    <tr>\n",
       "      <th>0</th>\n",
       "      <td>\"yemas \" tumorales:prthr:punto temporal:muestr...</td>\n",
       "      <td>C4482620</td>\n",
       "    </tr>\n",
       "    <tr>\n",
       "      <th>1</th>\n",
       "      <td>\"yemas\" de tumor:número aréico (por área):punt...</td>\n",
       "      <td>C4482621</td>\n",
       "    </tr>\n",
       "    <tr>\n",
       "      <th>2</th>\n",
       "      <td>% de actividad</td>\n",
       "      <td>C0439167</td>\n",
       "    </tr>\n",
       "    <tr>\n",
       "      <th>3</th>\n",
       "      <td>% de agregación</td>\n",
       "      <td>C0439168</td>\n",
       "    </tr>\n",
       "    <tr>\n",
       "      <th>4</th>\n",
       "      <td>% de captación</td>\n",
       "      <td>C0347980</td>\n",
       "    </tr>\n",
       "  </tbody>\n",
       "</table>\n",
       "</div>"
      ],
      "text/plain": [
       "                                                Term      Code\n",
       "0  \"yemas \" tumorales:prthr:punto temporal:muestr...  C4482620\n",
       "1  \"yemas\" de tumor:número aréico (por área):punt...  C4482621\n",
       "2                                     % de actividad  C0439167\n",
       "3                                    % de agregación  C0439168\n",
       "4                                     % de captación  C0347980"
      ]
     },
     "execution_count": 21,
     "metadata": {},
     "output_type": "execute_result"
    }
   ],
   "source": [
    "df.head()"
   ]
  },
  {
   "cell_type": "code",
   "execution_count": 26,
   "id": "4f420485-9e90-44c1-92cd-8ad5c25782a7",
   "metadata": {},
   "outputs": [],
   "source": [
    "all_names = list(df[\"Term\"].values)"
   ]
  },
  {
   "cell_type": "code",
   "execution_count": 28,
   "id": "4d8f08f1-5312-4383-8953-cea9e9e8c6ea",
   "metadata": {},
   "outputs": [
    {
     "data": {
      "application/json": {
       "ascii": false,
       "bar_format": null,
       "colour": null,
       "elapsed": 0.014307022094726562,
       "initial": 0,
       "n": 0,
       "ncols": null,
       "nrows": null,
       "postfix": null,
       "prefix": "",
       "rate": null,
       "total": 9744,
       "unit": "it",
       "unit_divisor": 1000,
       "unit_scale": false
      },
      "application/vnd.jupyter.widget-view+json": {
       "model_id": "1e1691ba64e14da3bff601120912cc89",
       "version_major": 2,
       "version_minor": 0
      },
      "text/plain": [
       "  0%|          | 0/9744 [00:00<?, ?it/s]"
      ]
     },
     "metadata": {},
     "output_type": "display_data"
    }
   ],
   "source": [
    "bs = 128 # batch size during inference\n",
    "all_embs = []\n",
    "for i in tqdm(np.arange(0, len(all_names), bs)):\n",
    "    toks = tokenizer.batch_encode_plus(all_names[i:i+bs], \n",
    "                                       padding=\"max_length\", \n",
    "                                       max_length=25, \n",
    "                                       truncation=True,\n",
    "                                       return_tensors=\"pt\")\n",
    "    toks_cuda = {}\n",
    "    for k,v in toks.items():\n",
    "        toks_cuda[k] = v.cuda()\n",
    "    cls_rep = model(**toks_cuda)[0][:,0,:] # use CLS representation as the embedding\n",
    "    all_embs.append(cls_rep.cpu().detach().numpy())\n",
    "\n",
    "all_embs = np.concatenate(all_embs, axis=0)"
   ]
  },
  {
   "cell_type": "code",
   "execution_count": 29,
   "id": "a2f7c1d6-9f57-4f56-8530-bc838b09cf2f",
   "metadata": {},
   "outputs": [
    {
     "data": {
      "text/plain": [
       "768"
      ]
     },
     "execution_count": 29,
     "metadata": {},
     "output_type": "execute_result"
    }
   ],
   "source": [
    "d = all_embs.shape[1]\n",
    "d"
   ]
  },
  {
   "cell_type": "code",
   "execution_count": 35,
   "id": "1a2a6be6-3c77-491a-90aa-3dd481482299",
   "metadata": {},
   "outputs": [],
   "source": [
    "quantizer = faiss.IndexFlatL2(768)\n",
    "index = faiss.IndexIVFFlat(quantizer, 768, 50)\n",
    "# index = faiss.index_cpu_to_all_gpus(index)\n",
    "index.train(all_embs)"
   ]
  },
  {
   "cell_type": "code",
   "execution_count": 36,
   "id": "9bee928d-74f8-45a1-a655-4cf5106851da",
   "metadata": {},
   "outputs": [],
   "source": [
    "index.add(all_embs)"
   ]
  },
  {
   "cell_type": "code",
   "execution_count": 37,
   "id": "b3bd1b9f-e0e4-4164-8af1-a4b4aa0f1c0b",
   "metadata": {},
   "outputs": [
    {
     "data": {
      "text/plain": [
       "1247174"
      ]
     },
     "execution_count": 37,
     "metadata": {},
     "output_type": "execute_result"
    }
   ],
   "source": [
    "index.ntotal"
   ]
  },
  {
   "cell_type": "code",
   "execution_count": 46,
   "id": "a3b72da9-9ffb-4c2c-bffc-bcbd5186252c",
   "metadata": {},
   "outputs": [],
   "source": [
    "faiss.write_index(index,'dataLeo_sap_bert_index')"
   ]
  },
  {
   "cell_type": "code",
   "execution_count": 38,
   "id": "54f28ae0-4cd8-4641-8a04-297b798c3df0",
   "metadata": {},
   "outputs": [],
   "source": [
    "k=5"
   ]
  },
  {
   "cell_type": "code",
   "execution_count": 41,
   "id": "901f54a9-da08-4d22-a67d-c728ed9cd4f9",
   "metadata": {},
   "outputs": [],
   "source": [
    "test_data = pd.read_csv('DataLeo/test_norm_ref.tsv',sep='\\t',header=None)"
   ]
  },
  {
   "cell_type": "code",
   "execution_count": 44,
   "id": "0f400374-4993-407d-be07-1228c6a09546",
   "metadata": {},
   "outputs": [
    {
     "data": {
      "text/plain": [
       "0                                nicotina\n",
       "1                                    iPTH\n",
       "2                          fosfato sérico\n",
       "3                                     HDL\n",
       "4                         trombocitopenia\n",
       "5                            hemodiálisis\n",
       "6                            nicotinamida\n",
       "7                         hiperfosfatemia\n",
       "8                            hemodiálisis\n",
       "9    evaluaron la eficacia y la seguridad\n",
       "Name: 4, dtype: object"
      ]
     },
     "execution_count": 44,
     "metadata": {},
     "output_type": "execute_result"
    }
   ],
   "source": [
    "test_data.loc[:,4][0:10]"
   ]
  },
  {
   "cell_type": "code",
   "execution_count": 55,
   "id": "ea7c9c60-358f-484b-96fd-c1468f97fa64",
   "metadata": {},
   "outputs": [
    {
     "data": {
      "application/json": {
       "ascii": false,
       "bar_format": null,
       "colour": null,
       "elapsed": 0.012112140655517578,
       "initial": 0,
       "n": 0,
       "ncols": null,
       "nrows": null,
       "postfix": null,
       "prefix": "",
       "rate": null,
       "total": 88,
       "unit": "it",
       "unit_divisor": 1000,
       "unit_scale": false
      },
      "application/vnd.jupyter.widget-view+json": {
       "model_id": "f7ec98487bf94725a89ec498b854a9f7",
       "version_major": 2,
       "version_minor": 0
      },
      "text/plain": [
       "  0%|          | 0/88 [00:00<?, ?it/s]"
      ]
     },
     "metadata": {},
     "output_type": "display_data"
    }
   ],
   "source": [
    "all_names = list(test_data.loc[:,4])\n",
    "bs = 128 # batch size during inference\n",
    "all_embs = []\n",
    "for i in tqdm(np.arange(0, len(all_names), bs)):\n",
    "    toks = tokenizer.batch_encode_plus(all_names[i:i+bs], \n",
    "                                       padding=\"max_length\", \n",
    "                                       max_length=25, \n",
    "                                       truncation=True,\n",
    "                                       return_tensors=\"pt\")\n",
    "    toks_cuda = {}\n",
    "    for k,v in toks.items():\n",
    "        toks_cuda[k] = v.cuda()\n",
    "    cls_rep = model(**toks_cuda)[0][:,0,:] # use CLS representation as the embedding\n",
    "    all_embs.append(cls_rep.cpu().detach().numpy())\n",
    "\n",
    "all_embs = np.concatenate(all_embs, axis=0)"
   ]
  },
  {
   "cell_type": "code",
   "execution_count": 56,
   "id": "a4739996-0428-492c-9830-03c6c43c8ebe",
   "metadata": {},
   "outputs": [],
   "source": [
    "k = 5"
   ]
  },
  {
   "cell_type": "code",
   "execution_count": 57,
   "id": "8f7ec27b-14d7-4f94-ba14-5f34cf9c36fc",
   "metadata": {},
   "outputs": [],
   "source": [
    "D, I = index.search(all_embs, k) "
   ]
  },
  {
   "cell_type": "code",
   "execution_count": 58,
   "id": "b52b6df9-aba1-4536-acd7-59679fd93c45",
   "metadata": {},
   "outputs": [
    {
     "data": {
      "text/plain": [
       "array([[ 791489,  722719,  791491,  791496,  791460],\n",
       "       [ 653295,  989134,  989146,  656525,  855832],\n",
       "       [ 513638, 1084669,  514595,  512616,  514229],\n",
       "       ...,\n",
       "       [1089285, 1089286, 1089282, 1089283, 1089284],\n",
       "       [ 860516,  341964,  860893,  532591,  890882],\n",
       "       [1030135, 1030136, 1030137, 1031804, 1033241]])"
      ]
     },
     "execution_count": 58,
     "metadata": {},
     "output_type": "execute_result"
    }
   ],
   "source": [
    "I"
   ]
  },
  {
   "cell_type": "code",
   "execution_count": 61,
   "id": "d4a709f5-b196-47ed-a396-3d19937ee54a",
   "metadata": {},
   "outputs": [],
   "source": [
    "codes = df['Code'].iloc[I[0]].values"
   ]
  },
  {
   "cell_type": "code",
   "execution_count": 62,
   "id": "5b0a5f89-eda6-4b3e-96a5-f60a4a6e181c",
   "metadata": {},
   "outputs": [
    {
     "data": {
      "text/plain": [
       "array(['C0028040', 'C0202431', 'C0238311', 'C3533135', 'C0028027'],\n",
       "      dtype=object)"
      ]
     },
     "execution_count": 62,
     "metadata": {},
     "output_type": "execute_result"
    }
   ],
   "source": [
    "codes"
   ]
  },
  {
   "cell_type": "code",
   "execution_count": 63,
   "id": "4ada7a65-3e17-4cac-add3-c1fc8df40388",
   "metadata": {},
   "outputs": [
    {
     "data": {
      "text/plain": [
       "True"
      ]
     },
     "execution_count": 63,
     "metadata": {},
     "output_type": "execute_result"
    }
   ],
   "source": [
    "test_data.loc[:,5][0] in codes"
   ]
  },
  {
   "cell_type": "code",
   "execution_count": 67,
   "id": "0bc70913-2814-4de4-9337-5b141b48dc89",
   "metadata": {},
   "outputs": [
    {
     "data": {
      "application/json": {
       "ascii": false,
       "bar_format": null,
       "colour": null,
       "elapsed": 0.014884233474731445,
       "initial": 0,
       "n": 0,
       "ncols": null,
       "nrows": null,
       "postfix": null,
       "prefix": "",
       "rate": null,
       "total": null,
       "unit": "it",
       "unit_divisor": 1000,
       "unit_scale": false
      },
      "application/vnd.jupyter.widget-view+json": {
       "model_id": "c0a568dcb7814af9870081ea4a98d022",
       "version_major": 2,
       "version_minor": 0
      },
      "text/plain": [
       "0it [00:00, ?it/s]"
      ]
     },
     "metadata": {},
     "output_type": "display_data"
    }
   ],
   "source": [
    "aciertosTop1 = 0\n",
    "aciertosTop5 = 0\n",
    "\n",
    "for i,x in tqdm(enumerate(I)):\n",
    "    codes = df['Code'].iloc[x].values\n",
    "    code = test_data.loc[:,5][i]\n",
    "    if (code==codes[0]):\n",
    "        aciertosTop1 += 1\n",
    "    if (code in codes):\n",
    "        aciertosTop5 += 1"
   ]
  },
  {
   "cell_type": "code",
   "execution_count": 68,
   "id": "820abba5-9077-404e-8fbe-d67a111c4f6e",
   "metadata": {},
   "outputs": [
    {
     "name": "stdout",
     "output_type": "stream",
     "text": [
      "Accuracy Top 1 0.896361\n",
      "Accuracy Top 5 1.000000\n"
     ]
    }
   ],
   "source": [
    "print(\"Accuracy Top 1 %f\" % (aciertosTop1/len(I)))\n",
    "print(\"Accuracy Top 5 %f\" % (aciertosTop5/len(I)))"
   ]
  },
  {
   "cell_type": "code",
   "execution_count": 69,
   "id": "88582dac-3578-41b4-a801-bcaf0d13cd65",
   "metadata": {},
   "outputs": [
    {
     "data": {
      "text/plain": [
       "5"
      ]
     },
     "execution_count": 69,
     "metadata": {},
     "output_type": "execute_result"
    }
   ],
   "source": [
    "5"
   ]
  },
  {
   "cell_type": "code",
   "execution_count": 70,
   "id": "1d47eeba-c5c0-4f8b-ae67-5b701d8ddbc6",
   "metadata": {},
   "outputs": [],
   "source": [
    "test_data_uncert = pd.read_csv('DataLeo/test_norm_ref_with_uncert.tsv',sep='\\t',header=None)"
   ]
  },
  {
   "cell_type": "code",
   "execution_count": 72,
   "id": "ae09ba85-9813-403d-a377-f147fcbbf6e9",
   "metadata": {},
   "outputs": [
    {
     "data": {
      "application/json": {
       "ascii": false,
       "bar_format": null,
       "colour": null,
       "elapsed": 0.013082027435302734,
       "initial": 0,
       "n": 0,
       "ncols": null,
       "nrows": null,
       "postfix": null,
       "prefix": "",
       "rate": null,
       "total": 91,
       "unit": "it",
       "unit_divisor": 1000,
       "unit_scale": false
      },
      "application/vnd.jupyter.widget-view+json": {
       "model_id": "c8fb2331a9584a11b2df287e527cc4a2",
       "version_major": 2,
       "version_minor": 0
      },
      "text/plain": [
       "  0%|          | 0/91 [00:00<?, ?it/s]"
      ]
     },
     "metadata": {},
     "output_type": "display_data"
    }
   ],
   "source": [
    "all_names = list(test_data_uncert.loc[:,4])\n",
    "bs = 128 # batch size during inference\n",
    "all_embs = []\n",
    "for i in tqdm(np.arange(0, len(all_names), bs)):\n",
    "    toks = tokenizer.batch_encode_plus(all_names[i:i+bs], \n",
    "                                       padding=\"max_length\", \n",
    "                                       max_length=50, \n",
    "                                       truncation=True,\n",
    "                                       return_tensors=\"pt\")\n",
    "    toks_cuda = {}\n",
    "    for k,v in toks.items():\n",
    "        toks_cuda[k] = v.cuda()\n",
    "    cls_rep = model(**toks_cuda)[0][:,0,:] # use CLS representation as the embedding\n",
    "    all_embs.append(cls_rep.cpu().detach().numpy())\n",
    "\n",
    "all_embs = np.concatenate(all_embs, axis=0)"
   ]
  },
  {
   "cell_type": "code",
   "execution_count": 73,
   "id": "2fa82cc3-85da-482e-a098-fe18f4f1f930",
   "metadata": {},
   "outputs": [],
   "source": [
    "k=5"
   ]
  },
  {
   "cell_type": "code",
   "execution_count": 74,
   "id": "067e3281-8848-4f9c-aa44-508eace6d9c9",
   "metadata": {},
   "outputs": [],
   "source": [
    "D, I = index.search(all_embs, k) "
   ]
  },
  {
   "cell_type": "code",
   "execution_count": 76,
   "id": "0d4763b0-579c-4605-b096-a129babbe191",
   "metadata": {},
   "outputs": [
    {
     "data": {
      "application/json": {
       "ascii": false,
       "bar_format": null,
       "colour": null,
       "elapsed": 0.01693868637084961,
       "initial": 0,
       "n": 0,
       "ncols": null,
       "nrows": null,
       "postfix": null,
       "prefix": "",
       "rate": null,
       "total": null,
       "unit": "it",
       "unit_divisor": 1000,
       "unit_scale": false
      },
      "application/vnd.jupyter.widget-view+json": {
       "model_id": "1edd5000a3344f449dddd308aa6086da",
       "version_major": 2,
       "version_minor": 0
      },
      "text/plain": [
       "0it [00:00, ?it/s]"
      ]
     },
     "metadata": {},
     "output_type": "display_data"
    }
   ],
   "source": [
    "aciertosTop1 = 0\n",
    "aciertosTop5 = 0\n",
    "\n",
    "for i,x in tqdm(enumerate(I)):\n",
    "    codes = df['Code'].iloc[x].values\n",
    "    code = test_data_uncert.loc[:,5][i]\n",
    "    if (code==codes[0]):\n",
    "        aciertosTop1 += 1\n",
    "    if (code in codes):\n",
    "        aciertosTop5 += 1"
   ]
  },
  {
   "cell_type": "code",
   "execution_count": 77,
   "id": "bfe82102-5142-4d1b-adec-d60b7414e6fd",
   "metadata": {},
   "outputs": [
    {
     "name": "stdout",
     "output_type": "stream",
     "text": [
      "Accuracy Top 1 0.868947\n",
      "Accuracy Top 5 0.970016\n"
     ]
    }
   ],
   "source": [
    "print(\"Accuracy Top 1 %f\" % (aciertosTop1/len(I)))\n",
    "print(\"Accuracy Top 5 %f\" % (aciertosTop5/len(I)))"
   ]
  },
  {
   "cell_type": "code",
   "execution_count": null,
   "id": "cf0d7818-4a9b-488f-b9a4-6f93919523f2",
   "metadata": {},
   "outputs": [],
   "source": []
  }
 ],
 "metadata": {
  "kernelspec": {
   "display_name": "Python [conda env:.conda-hf]",
   "language": "python",
   "name": "conda-env-.conda-hf-py"
  },
  "language_info": {
   "codemirror_mode": {
    "name": "ipython",
    "version": 3
   },
   "file_extension": ".py",
   "mimetype": "text/x-python",
   "name": "python",
   "nbconvert_exporter": "python",
   "pygments_lexer": "ipython3",
   "version": "3.10.4"
  }
 },
 "nbformat": 4,
 "nbformat_minor": 5
}
